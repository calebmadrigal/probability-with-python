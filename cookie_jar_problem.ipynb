{
 "cells": [
  {
   "cell_type": "markdown",
   "metadata": {},
   "source": [
    "# Cookie problem\n",
    "\n",
    "There are 2 cookie jars:\n",
    "\n",
    "* Jar 1 has 30 vanilla cookies and 10 chocolate cookies\n",
    "* Jar 2 has 20 vanilla cookies and 20 chocolate cookies\n",
    "\n",
    "You randomly pick one cookie from one randomly chosen jar. It is vanilla. What is the probability it was from Jar 1?\n",
    "\n",
    "So we are looking for P(Jar 1 | Vanilla).\n",
    "\n",
    "## Analytic Solution\n",
    "\n",
    "Given Bayes' Rule:\n",
    "\\begin{equation*}\n",
    "P(A|B) = \\frac{P(B|A) P(A)}{P(B)}\n",
    "\\end{equation*}\n",
    "\n",
    "We Can write:\n",
    "\n",
    "\\begin{equation*}\n",
    "P(Jar_1 | Vanilla) = \\frac{P(Vanilla | Jar_1) P(Jar_1)}{P(Vanilla)}\n",
    "\\end{equation*}"
   ]
  },
  {
   "cell_type": "code",
   "execution_count": 6,
   "metadata": {
    "collapsed": false
   },
   "outputs": [
    {
     "name": "stdout",
     "output_type": "stream",
     "text": [
      "P(Jar 1 | Vanilla) = 0.6\n"
     ]
    }
   ],
   "source": [
    "p_vanilla_given_jar_1 = 30/(30+10)\n",
    "p_jar_1 = 1/2\n",
    "p_vanilla = (30+20) / (30+10 + 20+20)\n",
    "p_jar_1_given_vanilla = (p_vanilla_given_jar_1 * p_jar_1) / p_vanilla\n",
    "print('P(Jar 1 | Vanilla) = {}'.format(p_jar_1_given_vanilla))"
   ]
  },
  {
   "cell_type": "markdown",
   "metadata": {},
   "source": [
    "## Monte Carlo Solution"
   ]
  },
  {
   "cell_type": "code",
   "execution_count": 9,
   "metadata": {
    "collapsed": false
   },
   "outputs": [
    {
     "name": "stdout",
     "output_type": "stream",
     "text": [
      "P(Jar 1 | Vanilla) = 0.6007661068193756\n"
     ]
    }
   ],
   "source": [
    "import random\n",
    "\n",
    "\n",
    "def choose_cookie(jar_num):\n",
    "    \"\"\" Return True for Vanilla and False for Chocolate\"\"\"\n",
    "    if jar_num == 1:\n",
    "        return random.random() <= (30/40)\n",
    "    else:\n",
    "        return random.random() <= (20/40)\n",
    "\n",
    "def choose_jar():\n",
    "    if random.random() <= 0.5:\n",
    "        return 1\n",
    "    else:\n",
    "        return 2\n",
    "\n",
    "num_trials = 1000000\n",
    "vanilla_count = 0\n",
    "jar_1_given_vanilla_count = 0\n",
    "\n",
    "for trial in range(num_trials):\n",
    "    jar_num = choose_jar()\n",
    "    is_vanilla = choose_cookie(jar_num)\n",
    "    if is_vanilla:\n",
    "        vanilla_count += 1\n",
    "        if jar_num == 1:\n",
    "            jar_1_given_vanilla_count += 1\n",
    "\n",
    "print('P(Jar 1 | Vanilla) = {}'.format(jar_1_given_vanilla_count / vanilla_count))\n",
    "    "
   ]
  },
  {
   "cell_type": "markdown",
   "metadata": {},
   "source": [
    "## Visualization of change in belief\n",
    "\n",
    "The 'prior' is our belief that Jar 1 is the chosen jar prior to seeing which cookie was chosen. The 'posterior' is our belief that Jar1 is the chosen jar after seeing which cookie was chosen."
   ]
  },
  {
   "cell_type": "code",
   "execution_count": 10,
   "metadata": {
    "collapsed": false
   },
   "outputs": [
    {
     "data": {
      "image/png": "[encoded data removed]",
      "text/plain": [
       "<matplotlib.figure.Figure at 0x106a70518>"
      ]
     },
     "metadata": {},
     "output_type": "display_data"
    }
   ],
   "source": [
    "import pandas as pd\n",
    "import matplotlib.pyplot as plt\n",
    "import functools\n",
    "%matplotlib inline\n",
    "\n",
    "cookie_prior = [0.5, 0.5]\n",
    "cookie_posterior = [0.6, 0.4]\n",
    "\n",
    "ys = [cookie_prior, cookie_posterior]\n",
    "x_ax = [1, 2]\n",
    "\n",
    "fig, axs = plt.subplots(ncols=2, figsize=(10, 4))\n",
    "for i, y_ax in enumerate(ys):\n",
    "    pd.Series(y_ax, index=x_ax).plot(kind='bar', ax=axs[i])\n",
    "    if i == 0:\n",
    "        axs[i].set_title('Prior')\n",
    "    else:\n",
    "        axs[i].set_title('Posterior')"
   ]
  },
  {
   "cell_type": "code",
   "execution_count": null,
   "metadata": {
    "collapsed": true
   },
   "outputs": [],
   "source": []
  }
 ],
 "metadata": {
  "kernelspec": {
   "display_name": "Python 3",
   "language": "python",
   "name": "python3"
  },
  "language_info": {
   "codemirror_mode": {
    "name": "ipython",
    "version": 3
   },
   "file_extension": ".py",
   "mimetype": "text/x-python",
   "name": "python",
   "nbconvert_exporter": "python",
   "pygments_lexer": "ipython3",
   "version": "3.5.1"
  }
 },
 "nbformat": 4,
 "nbformat_minor": 0
}
