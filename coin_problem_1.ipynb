{
 "cells": [
  {
   "cell_type": "markdown",
   "metadata": {},
   "source": [
    "# Coin flip problem\n",
    "\n",
    "There are 10 coins in a bag. 9 are fair, and 1 is a double-headed coin. If you randomly choose a coin from the bag, and get 5 heads in a row, what is the probability that the next flip will be heads also?"
   ]
  },
  {
   "cell_type": "code",
   "execution_count": 2,
   "metadata": {
    "collapsed": false
   },
   "outputs": [
    {
     "name": "stdout",
     "output_type": "stream",
     "text": [
      "P(h6|h1, h2, h3, h4, h5) = 0.8917532593889862\n"
     ]
    }
   ],
   "source": [
    "# Test procedure for each trial:\n",
    "#   * Choose a coin (10% chance of unfair, 90% chance of fair)\n",
    "#   * Flip that coin 5 times; if any flip is not heads, reject the sample and go to next trial\n",
    "#   * If all 5 flips are heads, count this sample, and flip the coin a last time, if heads, count as success\n",
    "\n",
    "import random\n",
    "\n",
    "p_f = 0.9\n",
    "p_h_f = 0.5\n",
    "trials = 1000000\n",
    "\n",
    "def fair_coin():\n",
    "    return random.random() <= 0.5\n",
    "\n",
    "def unfair_coin():\n",
    "    return True\n",
    "\n",
    "def get_coin():\n",
    "    if random.random() <= p_f:\n",
    "        return fair_coin\n",
    "    else:\n",
    "        return unfair_coin\n",
    "\n",
    "got_5_heads = 0\n",
    "got_6th_flip = 0\n",
    "for i in range(trials):\n",
    "    coin_got_heads = get_coin()\n",
    "\n",
    "    reject_sample = False\n",
    "\n",
    "    for flip in range(5):\n",
    "        if not coin_got_heads():\n",
    "            # This coin didn't get 5 heads in a row, so reject it\n",
    "            reject_sample = True\n",
    "            break\n",
    "\n",
    "    if reject_sample:\n",
    "        continue\n",
    "\n",
    "    got_5_heads += 1\n",
    "\n",
    "    if coin_got_heads():\n",
    "        got_6th_flip += 1\n",
    "\n",
    "prob = got_6th_flip / got_5_heads\n",
    "print('P(h6|h1, h2, h3, h4, h5) = {}'.format(prob))"
   ]
  },
  {
   "cell_type": "code",
   "execution_count": null,
   "metadata": {
    "collapsed": true
   },
   "outputs": [],
   "source": []
  }
 ],
 "metadata": {
  "kernelspec": {
   "display_name": "Python 3",
   "language": "python",
   "name": "python3"
  },
  "language_info": {
   "codemirror_mode": {
    "name": "ipython",
    "version": 3
   },
   "file_extension": ".py",
   "mimetype": "text/x-python",
   "name": "python",
   "nbconvert_exporter": "python",
   "pygments_lexer": "ipython3",
   "version": "3.5.1"
  }
 },
 "nbformat": 4,
 "nbformat_minor": 0
}
