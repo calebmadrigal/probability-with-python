{
 "cells": [
  {
   "cell_type": "markdown",
   "metadata": {},
   "source": [
    "# Markov Chain\n",
    "\n",
    "![Bull Bear Markov Chain](images/bull_bear_markov.png)"
   ]
  },
  {
   "cell_type": "code",
   "execution_count": 1,
   "metadata": {
    "collapsed": true
   },
   "outputs": [],
   "source": [
    "import numpy as np\n",
    "import collections\n",
    "import random"
   ]
  },
  {
   "cell_type": "code",
   "execution_count": 2,
   "metadata": {
    "collapsed": false
   },
   "outputs": [],
   "source": [
    "# [bull, bear, stagnant][bull, bear, stagnant]\n",
    "index_to_name = ['bull', 'bear', 'stagnant']\n",
    "transition_matrix = np.array([[0.9, 0.075, 0.025],[0.15, 0.8, 0.05], [0.25, 0.25, 0.5]])"
   ]
  },
  {
   "cell_type": "code",
   "execution_count": 3,
   "metadata": {
    "collapsed": false
   },
   "outputs": [
    {
     "data": {
      "text/plain": [
       "0.074999999999999997"
      ]
     },
     "execution_count": 3,
     "metadata": {},
     "output_type": "execute_result"
    }
   ],
   "source": [
    "# bull -> bear\n",
    "transition_matrix[0][1]"
   ]
  },
  {
   "cell_type": "code",
   "execution_count": 4,
   "metadata": {
    "collapsed": false
   },
   "outputs": [
    {
     "name": "stdout",
     "output_type": "stream",
     "text": [
      "bull stationary probability: 0.62655\n",
      "bear stationary probability: 0.310724\n",
      "stagnant stationary probability: 0.062726\n"
     ]
    }
   ],
   "source": [
    "# Find stationary distribution\n",
    "def get_next_state(state):\n",
    "    r = random.random()\n",
    "    prob_sum = 0\n",
    "    new_state = len(transition_matrix) - 1\n",
    "    for i in range(len(transition_matrix)):\n",
    "        prob_sum += transition_matrix[state][i]\n",
    "        if prob_sum >= r:\n",
    "            new_state = i\n",
    "            break\n",
    "    return new_state\n",
    "        \n",
    "\n",
    "num_samples = 1000000\n",
    "state = 0\n",
    "count = collections.Counter()\n",
    "for i in range(num_samples):\n",
    "    count[state] += 1\n",
    "    state = get_next_state(state)\n",
    "\n",
    "for i in range(len(index_to_name)):\n",
    "    print('{} stationary probability: {}'.format(index_to_name[i], count[i] / num_samples))"
   ]
  },
  {
   "cell_type": "code",
   "execution_count": null,
   "metadata": {
    "collapsed": true
   },
   "outputs": [],
   "source": []
  }
 ],
 "metadata": {
  "kernelspec": {
   "display_name": "Python 3",
   "language": "python",
   "name": "python3"
  },
  "language_info": {
   "codemirror_mode": {
    "name": "ipython",
    "version": 3
   },
   "file_extension": ".py",
   "mimetype": "text/x-python",
   "name": "python",
   "nbconvert_exporter": "python",
   "pygments_lexer": "ipython3",
   "version": "3.5.1"
  }
 },
 "nbformat": 4,
 "nbformat_minor": 0
}
