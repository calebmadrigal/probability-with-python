{
 "cells": [
  {
   "cell_type": "markdown",
   "metadata": {},
   "source": [
    "# Variance"
   ]
  },
  {
   "cell_type": "code",
   "execution_count": 209,
   "metadata": {
    "collapsed": true
   },
   "outputs": [],
   "source": [
    "friends = [17, 19, 18, 17, 19]\n",
    "family = [7, 38, 4, 23, 18]\n",
    "coin_flips1 = [1, 1, 1, 1, 1, 0, 0, 0, 0, 0]\n",
    "coin_flips2 = [1, 1, 1, 1, 1, 1, 1, 0, 0, 0]\n",
    "coin_flips3 = [1, 1, 1, 1, 1, 1, 1, 1, 1, 0]\n",
    "coin_flips4 = [1, 1, 1, 1, 1, 1, 1, 1, 1, 1]"
   ]
  },
  {
   "cell_type": "code",
   "execution_count": 210,
   "metadata": {
    "collapsed": true
   },
   "outputs": [],
   "source": [
    "def mean(samples):\n",
    "    return sum(samples) / len(samples)"
   ]
  },
  {
   "cell_type": "code",
   "execution_count": 211,
   "metadata": {
    "collapsed": false
   },
   "outputs": [
    {
     "data": {
      "text/plain": [
       "18.0"
      ]
     },
     "execution_count": 211,
     "metadata": {},
     "output_type": "execute_result"
    }
   ],
   "source": [
    "mean(friends)"
   ]
  },
  {
   "cell_type": "code",
   "execution_count": 212,
   "metadata": {
    "collapsed": false
   },
   "outputs": [
    {
     "data": {
      "text/plain": [
       "18.0"
      ]
     },
     "execution_count": 212,
     "metadata": {},
     "output_type": "execute_result"
    }
   ],
   "source": [
    "mean(family)"
   ]
  },
  {
   "cell_type": "code",
   "execution_count": 213,
   "metadata": {
    "collapsed": true
   },
   "outputs": [],
   "source": [
    "def binomial_variance(p):\n",
    "    \"\"\" This calculates the expected variance based on the probabily/mean. Also, this works on probability\"\"\"\n",
    "    return p * (1-p)\n",
    "\n",
    "def empirical_variance(samples):\n",
    "    \"\"\" This calculates the variance based of of each sample we've seen. \"\"\"\n",
    "    mu = mean(samples)\n",
    "    variances = [(mu - sample)**2 for sample in samples]\n",
    "    return mean(variances)"
   ]
  },
  {
   "cell_type": "code",
   "execution_count": 214,
   "metadata": {
    "collapsed": false
   },
   "outputs": [
    {
     "data": {
      "text/plain": [
       "0.8"
      ]
     },
     "execution_count": 214,
     "metadata": {},
     "output_type": "execute_result"
    }
   ],
   "source": [
    "empirical_variance(friends)"
   ]
  },
  {
   "cell_type": "code",
   "execution_count": 215,
   "metadata": {
    "collapsed": false
   },
   "outputs": [
    {
     "data": {
      "text/plain": [
       "148.4"
      ]
     },
     "execution_count": 215,
     "metadata": {},
     "output_type": "execute_result"
    }
   ],
   "source": [
    "empirical_variance(family)"
   ]
  },
  {
   "cell_type": "code",
   "execution_count": 216,
   "metadata": {
    "collapsed": false
   },
   "outputs": [
    {
     "data": {
      "text/plain": [
       "0.25"
      ]
     },
     "execution_count": 216,
     "metadata": {},
     "output_type": "execute_result"
    }
   ],
   "source": [
    "binomial_variance(.5)"
   ]
  },
  {
   "cell_type": "code",
   "execution_count": 217,
   "metadata": {
    "collapsed": false
   },
   "outputs": [
    {
     "data": {
      "text/plain": [
       "0.25"
      ]
     },
     "execution_count": 217,
     "metadata": {},
     "output_type": "execute_result"
    }
   ],
   "source": [
    "empirical_variance(coin_flips1)"
   ]
  },
  {
   "cell_type": "code",
   "execution_count": 218,
   "metadata": {
    "collapsed": false
   },
   "outputs": [
    {
     "data": {
      "text/plain": [
       "0.21000000000000002"
      ]
     },
     "execution_count": 218,
     "metadata": {},
     "output_type": "execute_result"
    }
   ],
   "source": [
    "binomial_variance(.7)"
   ]
  },
  {
   "cell_type": "code",
   "execution_count": 219,
   "metadata": {
    "collapsed": false
   },
   "outputs": [
    {
     "data": {
      "text/plain": [
       "0.21000000000000002"
      ]
     },
     "execution_count": 219,
     "metadata": {},
     "output_type": "execute_result"
    }
   ],
   "source": [
    "empirical_variance(coin_flips2)"
   ]
  },
  {
   "cell_type": "markdown",
   "metadata": {},
   "source": [
    "# Confidence Interval\n",
    "\n",
    "Here are the coefficients for different CI \n",
    "* 99% -> 2.576\n",
    "* 98% -> 2.326\n",
    "* 95% -> 1.96\n",
    "* 90% -> 1.645"
   ]
  },
  {
   "cell_type": "code",
   "execution_count": 220,
   "metadata": {
    "collapsed": false
   },
   "outputs": [],
   "source": [
    "def confidence_interval(samples, confidence_coeff=1.96):\n",
    "    \"\"\" Calculate the confidence interval for the given samples. \"\"\"\n",
    "    mu = mean(samples)\n",
    "    ci = confidence_coeff * ( empirical_variance(samples)**(1/2) / len(samples)**(1/2) )\n",
    "    return {'mean': mu, 'ci': ci}"
   ]
  },
  {
   "cell_type": "code",
   "execution_count": 221,
   "metadata": {
    "collapsed": false
   },
   "outputs": [
    {
     "data": {
      "text/plain": [
       "{'ci': 0.3099032106965012, 'mean': 0.5}"
      ]
     },
     "execution_count": 221,
     "metadata": {},
     "output_type": "execute_result"
    }
   ],
   "source": [
    "confidence_interval(coin_flips1)"
   ]
  },
  {
   "cell_type": "code",
   "execution_count": 222,
   "metadata": {
    "collapsed": false
   },
   "outputs": [
    {
     "data": {
      "text/plain": [
       "{'ci': 0.284030984225313, 'mean': 0.7}"
      ]
     },
     "execution_count": 222,
     "metadata": {},
     "output_type": "execute_result"
    }
   ],
   "source": [
    "confidence_interval(coin_flips2)"
   ]
  },
  {
   "cell_type": "code",
   "execution_count": 223,
   "metadata": {
    "collapsed": false
   },
   "outputs": [
    {
     "data": {
      "text/plain": [
       "{'ci': 0.1859419264179007, 'mean': 0.9}"
      ]
     },
     "execution_count": 223,
     "metadata": {},
     "output_type": "execute_result"
    }
   ],
   "source": [
    "confidence_interval(coin_flips3)"
   ]
  },
  {
   "cell_type": "code",
   "execution_count": 224,
   "metadata": {
    "collapsed": false
   },
   "outputs": [
    {
     "data": {
      "text/plain": [
       "{'ci': 0.0, 'mean': 1.0}"
      ]
     },
     "execution_count": 224,
     "metadata": {},
     "output_type": "execute_result"
    }
   ],
   "source": [
    "confidence_interval(coin_flips4)"
   ]
  },
  {
   "cell_type": "code",
   "execution_count": 225,
   "metadata": {
    "collapsed": false
   },
   "outputs": [
    {
     "data": {
      "text/plain": [
       "{'ci': 0.7839999999999999, 'mean': 18.0}"
      ]
     },
     "execution_count": 225,
     "metadata": {},
     "output_type": "execute_result"
    }
   ],
   "source": [
    "confidence_interval(friends)"
   ]
  },
  {
   "cell_type": "code",
   "execution_count": 226,
   "metadata": {
    "collapsed": false
   },
   "outputs": [
    {
     "data": {
      "text/plain": [
       "{'ci': 10.67795336195097, 'mean': 18.0}"
      ]
     },
     "execution_count": 226,
     "metadata": {},
     "output_type": "execute_result"
    }
   ],
   "source": [
    "confidence_interval(family)"
   ]
  },
  {
   "cell_type": "markdown",
   "metadata": {},
   "source": [
    "# Testing the confidence interval\n",
    "\n",
    "I have 10 coins:\n",
    "* Coin 1 has a 0% chance of Heads\n",
    "* Coin 2 has a 10% chance of Heads\n",
    "* Coin 3 has a 20% chance of Heads\n",
    "* Coin 4 has a 30% chance of Heads\n",
    "* Coin 5 has a 40% chance of Heads\n",
    "* Coin 6 has a 50% chance of Heads\n",
    "* Coin 7 has a 60% chance of Heads\n",
    "* Coin 8 has a 70% chance of Heads\n",
    "* Coin 9 has a 80% chance of Heads\n",
    "* Coin 10 has a 90% chance of Heads\n",
    "\n",
    "To test the confidence interval, we're going to do the following:\n",
    "* Draw a random coin\n",
    "* Do some random number of samples (like between 1 and 1000 samples)\n",
    "* Calculate the empirical mean and confidence interval based on the samples\n",
    "* See if the true mean is within the confidence interval (empirical_mean-ci/2, empirical_mean+ci/2)\n"
   ]
  },
  {
   "cell_type": "code",
   "execution_count": 227,
   "metadata": {
    "collapsed": false
   },
   "outputs": [
    {
     "data": {
      "text/plain": [
       "[True, True, True, True, True, True, True, True, True, True]"
      ]
     },
     "execution_count": 227,
     "metadata": {},
     "output_type": "execute_result"
    }
   ],
   "source": [
    "import random\n",
    "\n",
    "class Coin:\n",
    "    def __init__(self, probability_of_heads):\n",
    "        self.probability_of_heads = probability_of_heads\n",
    "    def flip(self):\n",
    "        return random.random() <= self.probability_of_heads\n",
    "\n",
    "coins = [Coin(i / 10) for i in range(10)]\n",
    "\n",
    "def get_coin():\n",
    "    \"\"\" Returns a function which returns True if Heads, False if Tails. \"\"\"\n",
    "    return coins[random.randint(0,9)]\n",
    "\n",
    "c = get_coin()\n",
    "flips = [c.flip() for i in range(10)]\n",
    "flips"
   ]
  },
  {
   "cell_type": "code",
   "execution_count": 228,
   "metadata": {
    "collapsed": false
   },
   "outputs": [
    {
     "data": {
      "text/plain": [
       "0.9"
      ]
     },
     "execution_count": 228,
     "metadata": {},
     "output_type": "execute_result"
    }
   ],
   "source": [
    "c.probability_of_heads"
   ]
  },
  {
   "cell_type": "code",
   "execution_count": 229,
   "metadata": {
    "collapsed": false
   },
   "outputs": [
    {
     "name": "stdout",
     "output_type": "stream",
     "text": [
      "samples=133, real mean: 0.8, emp mean: 0.789, ci: 0.069\n",
      "samples=355, real mean: 0.3, emp mean: 0.270, ci: 0.046\n",
      "samples=540, real mean: 0.8, emp mean: 0.780, ci: 0.035\n",
      "samples=846, real mean: 0.3, emp mean: 0.291, ci: 0.031\n",
      "samples=148, real mean: 0.5, emp mean: 0.541, ci: 0.080\n",
      "samples=816, real mean: 0.2, emp mean: 0.212, ci: 0.028\n",
      "samples=795, real mean: 0.1, emp mean: 0.113, ci: 0.022\n",
      "samples=16, real mean: 0.2, emp mean: 0.062, ci: 0.119\n",
      "samples=216, real mean: 0.5, emp mean: 0.556, ci: 0.066\n",
      "samples=683, real mean: 0.9, emp mean: 0.905, ci: 0.022\n",
      "\n",
      "Observed probability that true mean is in confidence interval: 0.9477\n"
     ]
    }
   ],
   "source": [
    "def in_interval(number, interval):\n",
    "    return interval[0] <= number <= interval[1]\n",
    "\n",
    "def is_real_mean_in_ci(real_mean, empirical_mean, ci):\n",
    "    return in_interval(real_mean, (empirical_mean-(ci), empirical_mean+(ci)))\n",
    "\n",
    "num_trials = 10000\n",
    "num_times_true_mean_was_in_ci = 0\n",
    "\n",
    "for trial in range(num_trials):\n",
    "    coin = get_coin()\n",
    "    num_samples = random.randint(1, 1000)\n",
    "    samples = [coin.flip() for i in range(num_samples)]\n",
    "    mean_with_ci = confidence_interval(samples)\n",
    "    \n",
    "    real_mean = coin.probability_of_heads\n",
    "    empirical_mean = mean_with_ci['mean']\n",
    "    if is_real_mean_in_ci(real_mean, empirical_mean, mean_with_ci['ci']):\n",
    "        num_times_true_mean_was_in_ci += 1\n",
    "    \n",
    "    if trial < 10:\n",
    "        print('samples={0:2.0f}, real mean: {1:2.1f}, emp mean: {2:4.3f}, ci: {3:4.3f}'.format(num_samples, real_mean, empirical_mean, mean_with_ci['ci']))\n",
    "\n",
    "ci_correct_wrt_true_mean = num_times_true_mean_was_in_ci / num_trials\n",
    "print()\n",
    "print('Observed probability that true mean is in confidence interval:', ci_correct_wrt_true_mean)"
   ]
  },
  {
   "cell_type": "markdown",
   "metadata": {},
   "source": [
    "### Interpretation\n",
    "\n",
    "So it seems that for a 95% confidence interval, there is a 95% chance that the real mean is within the confidence interval."
   ]
  },
  {
   "cell_type": "code",
   "execution_count": null,
   "metadata": {
    "collapsed": true
   },
   "outputs": [],
   "source": []
  }
 ],
 "metadata": {
  "kernelspec": {
   "display_name": "Python 3",
   "language": "python",
   "name": "python3"
  },
  "language_info": {
   "codemirror_mode": {
    "name": "ipython",
    "version": 3
   },
   "file_extension": ".py",
   "mimetype": "text/x-python",
   "name": "python",
   "nbconvert_exporter": "python",
   "pygments_lexer": "ipython3",
   "version": "3.5.1"
  }
 },
 "nbformat": 4,
 "nbformat_minor": 0
}
